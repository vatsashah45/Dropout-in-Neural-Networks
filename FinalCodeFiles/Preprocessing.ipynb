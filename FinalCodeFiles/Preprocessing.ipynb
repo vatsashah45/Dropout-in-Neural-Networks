{
 "cells": [
  {
   "cell_type": "code",
   "execution_count": 2,
   "id": "6f502ee2",
   "metadata": {},
   "outputs": [],
   "source": [
    "import gc\n",
    "import numpy as np\n",
    "import matplotlib.pyplot as plt\n",
    "from scipy import sparse\n",
    "import json\n",
    "import pandas as pd\n",
    "import scipy.io"
   ]
  },
  {
   "cell_type": "code",
   "execution_count": 3,
   "id": "f6abc629",
   "metadata": {},
   "outputs": [
    {
     "name": "stderr",
     "output_type": "stream",
     "text": [
      "C:\\Users\\jptl2\\anaconda3\\envs\\tf\\lib\\site-packages\\tqdm\\auto.py:22: TqdmWarning: IProgress not found. Please update jupyter and ipywidgets. See https://ipywidgets.readthedocs.io/en/stable/user_install.html\n",
      "  from .autonotebook import tqdm as notebook_tqdm\n"
     ]
    }
   ],
   "source": [
    "import tensorflow as tf\n",
    "from tensorflow import keras\n",
    "import tensorflow_datasets as tfds"
   ]
  },
  {
   "cell_type": "code",
   "execution_count": 20,
   "id": "19e3b5b5",
   "metadata": {},
   "outputs": [],
   "source": [
    "import sklearn.datasets\n",
    "from sklearn.datasets import fetch_rcv1"
   ]
  },
  {
   "cell_type": "markdown",
   "id": "fda537d9",
   "metadata": {},
   "source": [
    "# RCV1\n",
    "\n",
    "## The code for loading this dataset is extremely slow. We recommend not running it.\n",
    "## The data was saved in files locally so they could be loaded faster during the model training."
   ]
  },
  {
   "cell_type": "markdown",
   "id": "f91446da",
   "metadata": {},
   "source": [
    "### Training dataset loading and saving"
   ]
  },
  {
   "cell_type": "code",
   "execution_count": null,
   "id": "be3554c7",
   "metadata": {},
   "outputs": [],
   "source": [
    "x_train, y_train = fetch_rcv1(subset='train',return_X_y=True)"
   ]
  },
  {
   "cell_type": "code",
   "execution_count": null,
   "id": "6ef40be2",
   "metadata": {},
   "outputs": [],
   "source": [
    "y_train = pandas.DataFrame.sparse.from_spmatrix(y_train).to_numpy(dtype='float32')"
   ]
  },
  {
   "cell_type": "code",
   "execution_count": null,
   "id": "d28fba11",
   "metadata": {},
   "outputs": [],
   "source": [
    "sparse.save_npz('./ModelData/x_train-RCV1',x_train)\n",
    "np.save('./ModelData/y_train-RCV1',y_train)"
   ]
  },
  {
   "cell_type": "code",
   "execution_count": null,
   "id": "ed7a197b",
   "metadata": {},
   "outputs": [],
   "source": [
    "del(x_train)\n",
    "del(y_train)\n",
    "gc.collect()"
   ]
  },
  {
   "cell_type": "markdown",
   "id": "be2e63a1",
   "metadata": {},
   "source": [
    "### Testing dataset loading and saving"
   ]
  },
  {
   "cell_type": "code",
   "execution_count": null,
   "id": "117a0d3a",
   "metadata": {},
   "outputs": [],
   "source": [
    "x_test, y_test = fetch_rcv1(subset='test',return_X_y=True,shuffle=True)"
   ]
  },
  {
   "cell_type": "code",
   "execution_count": null,
   "id": "6869fe1e",
   "metadata": {},
   "outputs": [],
   "source": [
    "y_test = pandas.DataFrame.sparse.from_spmatrix(y_test).to_numpy(dtype='float32')"
   ]
  },
  {
   "cell_type": "code",
   "execution_count": null,
   "id": "afbd9dcd",
   "metadata": {},
   "outputs": [],
   "source": [
    "sparse.save_npz('./ModelData/x_test-RCV1',x_test)\n",
    "np.save('./ModelData/y_test-RCV1',y_test)"
   ]
  },
  {
   "cell_type": "code",
   "execution_count": null,
   "id": "23724008",
   "metadata": {},
   "outputs": [],
   "source": [
    "del(x_test)\n",
    "del(y_test)\n",
    "gc.collect()"
   ]
  },
  {
   "cell_type": "markdown",
   "id": "969e9b85",
   "metadata": {},
   "source": [
    "# MNIST"
   ]
  },
  {
   "cell_type": "markdown",
   "id": "50216ece",
   "metadata": {},
   "source": [
    "### Dataset loading"
   ]
  },
  {
   "cell_type": "code",
   "execution_count": 3,
   "id": "e2f5c9bc",
   "metadata": {},
   "outputs": [
    {
     "name": "stdout",
     "output_type": "stream",
     "text": [
      "(60000, 28, 28)\n",
      "(10000, 28, 28)\n",
      "(60000,)\n",
      "(10000,)\n"
     ]
    }
   ],
   "source": [
    "(x_train, y_train), (x_test, y_test) = keras.datasets.mnist.load_data()\n",
    "print(x_train.shape)\n",
    "print(x_test.shape)\n",
    "print(y_train.shape)\n",
    "print(y_test.shape)"
   ]
  },
  {
   "cell_type": "code",
   "execution_count": 4,
   "id": "282d4088",
   "metadata": {},
   "outputs": [],
   "source": [
    "x_train = np.array(x_train).reshape(60000, 784)\n",
    "x_test = np.array(x_test).reshape(10000, 784)"
   ]
  },
  {
   "cell_type": "code",
   "execution_count": 5,
   "id": "81a91e4c",
   "metadata": {},
   "outputs": [
    {
     "data": {
      "image/png": "[encoded data removed]",
      "text/plain": [
       "<Figure size 640x480 with 1 Axes>"
      ]
     },
     "metadata": {},
     "output_type": "display_data"
    }
   ],
   "source": [
    "pixels = x_train[0].reshape((28,28))\n",
    "plt.imshow(pixels, cmap='gray')\n",
    "plt.show()"
   ]
  },
  {
   "cell_type": "markdown",
   "id": "536ca840",
   "metadata": {},
   "source": [
    "### Data normalization"
   ]
  },
  {
   "cell_type": "code",
   "execution_count": 6,
   "id": "9dea9cb8",
   "metadata": {},
   "outputs": [],
   "source": [
    "x_train = np.divide(x_train,255)\n",
    "x_test = np.divide(x_test,255)"
   ]
  },
  {
   "cell_type": "code",
   "execution_count": 7,
   "id": "88092b82",
   "metadata": {},
   "outputs": [
    {
     "name": "stdout",
     "output_type": "stream",
     "text": [
      "(60000, 784)\n",
      "(10000, 784)\n",
      "(60000, 10)\n",
      "(10000, 10)\n"
     ]
    }
   ],
   "source": [
    "y_trainAux = np.zeros((y_train.shape[0],10))\n",
    "y_testAux = np.zeros((y_test.shape[0],10))\n",
    "for i in range(y_train.shape[0]):\n",
    "    y_trainAux[i][y_train[i]] = 1.0\n",
    "for i in range(y_test.shape[0]):\n",
    "    y_testAux[i][y_test[i]] = 1.0\n",
    "\n",
    "y_train = y_trainAux\n",
    "y_test = y_testAux\n",
    "del(y_trainAux)\n",
    "del(y_testAux)\n",
    "print(x_train.shape)\n",
    "print(x_test.shape)\n",
    "print(y_train.shape)\n",
    "print(y_test.shape)"
   ]
  },
  {
   "cell_type": "markdown",
   "id": "1e484eda",
   "metadata": {},
   "source": [
    "### Dataset saving"
   ]
  },
  {
   "cell_type": "code",
   "execution_count": 8,
   "id": "9d673f5e",
   "metadata": {},
   "outputs": [],
   "source": [
    "np.savetxt('./ModelData/x_train-MNIST', x_train)\n",
    "np.savetxt('./ModelData/y_train-MNIST', y_train)\n",
    "np.savetxt('./ModelData/x_test-MNIST', x_test)\n",
    "np.savetxt('./ModelData/y_test-MNIST', y_test)"
   ]
  },
  {
   "cell_type": "code",
   "execution_count": 9,
   "id": "0f29abde",
   "metadata": {},
   "outputs": [
    {
     "data": {
      "text/plain": [
       "2996"
      ]
     },
     "execution_count": 9,
     "metadata": {},
     "output_type": "execute_result"
    }
   ],
   "source": [
    "del(x_train)\n",
    "del(x_test)\n",
    "del(y_train)\n",
    "del(y_test)\n",
    "gc.collect()"
   ]
  },
  {
   "cell_type": "markdown",
   "id": "940bc80a",
   "metadata": {},
   "source": [
    "# CIFAR 10"
   ]
  },
  {
   "cell_type": "markdown",
   "id": "59a3b744",
   "metadata": {},
   "source": [
    "### Dataset loading"
   ]
  },
  {
   "cell_type": "code",
   "execution_count": 18,
   "id": "a2e04f7d",
   "metadata": {},
   "outputs": [
    {
     "name": "stdout",
     "output_type": "stream",
     "text": [
      "(50000, 32, 32, 3)\n",
      "(10000, 32, 32, 3)\n",
      "(50000, 1)\n",
      "(10000, 1)\n"
     ]
    }
   ],
   "source": [
    "(x_train, y_train), (x_test, y_test) = keras.datasets.cifar10.load_data()\n",
    "print(x_train.shape)\n",
    "print(x_test.shape)\n",
    "print(y_train.shape)\n",
    "print(y_test.shape)"
   ]
  },
  {
   "cell_type": "code",
   "execution_count": 19,
   "id": "5ba16484",
   "metadata": {},
   "outputs": [
    {
     "data": {
      "image/png": "[encoded data removed]",
      "text/plain": [
       "<Figure size 640x480 with 1 Axes>"
      ]
     },
     "metadata": {},
     "output_type": "display_data"
    }
   ],
   "source": [
    "pixels = x_train[1].reshape((32,32,3))\n",
    "plt.imshow(pixels)\n",
    "plt.show()"
   ]
  },
  {
   "cell_type": "markdown",
   "id": "b2879709",
   "metadata": {},
   "source": [
    "### Data normalization"
   ]
  },
  {
   "cell_type": "code",
   "execution_count": 20,
   "id": "51833a58",
   "metadata": {},
   "outputs": [],
   "source": [
    "x_train = np.divide(x_train,255)\n",
    "x_test = np.divide(x_test,255)"
   ]
  },
  {
   "cell_type": "code",
   "execution_count": 21,
   "id": "b988e0e3",
   "metadata": {},
   "outputs": [
    {
     "name": "stdout",
     "output_type": "stream",
     "text": [
      "(50000, 32, 32, 3)\n",
      "(10000, 32, 32, 3)\n",
      "(50000, 10)\n",
      "(10000, 10)\n"
     ]
    }
   ],
   "source": [
    "y_trainAux = np.zeros((y_train.shape[0],10))\n",
    "y_testAux = np.zeros((y_test.shape[0],10))\n",
    "for i in range(y_train.shape[0]):\n",
    "    y_trainAux[i][y_train[i]] = 1.0\n",
    "for i in range(y_test.shape[0]):\n",
    "    y_testAux[i][y_test[i]] = 1.0\n",
    "\n",
    "y_train = y_trainAux\n",
    "y_test = y_testAux\n",
    "del(y_trainAux)\n",
    "del(y_testAux)\n",
    "print(x_train.shape)\n",
    "print(x_test.shape)\n",
    "print(y_train.shape)\n",
    "print(y_test.shape)"
   ]
  },
  {
   "cell_type": "markdown",
   "id": "3f217017",
   "metadata": {},
   "source": [
    "### Dataset saving"
   ]
  },
  {
   "cell_type": "code",
   "execution_count": 22,
   "id": "91ea3607",
   "metadata": {},
   "outputs": [],
   "source": [
    "np.save('./ModelData/x_train-CIFAR', x_train)\n",
    "np.save('./ModelData/y_train-CIFAR', y_train)\n",
    "np.save('./ModelData/x_test-CIFAR', x_test)\n",
    "np.save('./ModelData/y_test-CIFAR', y_test)"
   ]
  },
  {
   "cell_type": "code",
   "execution_count": 23,
   "id": "f5b53e13",
   "metadata": {},
   "outputs": [
    {
     "data": {
      "text/plain": [
       "3104"
      ]
     },
     "execution_count": 23,
     "metadata": {},
     "output_type": "execute_result"
    }
   ],
   "source": [
    "del(x_train)\n",
    "del(x_test)\n",
    "del(y_train)\n",
    "del(y_test)\n",
    "gc.collect()"
   ]
  },
  {
   "cell_type": "markdown",
   "id": "1184dd2c",
   "metadata": {},
   "source": [
    "# SVHN"
   ]
  },
  {
   "cell_type": "markdown",
   "id": "7cc0ad4a",
   "metadata": {},
   "source": [
    "### Training dataset loading"
   ]
  },
  {
   "cell_type": "code",
   "execution_count": 26,
   "id": "4ce3f7f7",
   "metadata": {},
   "outputs": [],
   "source": [
    "mat = scipy.io.loadmat('./PreprocessingData/train_32x32.mat')"
   ]
  },
  {
   "cell_type": "code",
   "execution_count": 27,
   "id": "7ba7a6ce",
   "metadata": {},
   "outputs": [],
   "source": [
    "x_train = mat['X']\n",
    "y_train = mat['y']"
   ]
  },
  {
   "cell_type": "code",
   "execution_count": 28,
   "id": "ab035016",
   "metadata": {},
   "outputs": [
    {
     "data": {
      "text/plain": [
       "(32, 32, 3, 73257)"
      ]
     },
     "execution_count": 28,
     "metadata": {},
     "output_type": "execute_result"
    }
   ],
   "source": [
    "x_train.shape"
   ]
  },
  {
   "cell_type": "code",
   "execution_count": 29,
   "id": "9fcd2485",
   "metadata": {},
   "outputs": [],
   "source": [
    "x_trainAux = []\n",
    "for i in range(x_train.shape[3]):\n",
    "    x_trainAux.append(x_train[:,:,:,i].reshape((32,32,3)))\n",
    "x_train = np.array(x_trainAux)\n",
    "del(x_trainAux)"
   ]
  },
  {
   "cell_type": "code",
   "execution_count": 30,
   "id": "1d963744",
   "metadata": {},
   "outputs": [
    {
     "data": {
      "text/plain": [
       "(73257, 32, 32, 3)"
      ]
     },
     "execution_count": 30,
     "metadata": {},
     "output_type": "execute_result"
    }
   ],
   "source": [
    "x_train.shape"
   ]
  },
  {
   "cell_type": "code",
   "execution_count": 31,
   "id": "4530ffd0",
   "metadata": {},
   "outputs": [
    {
     "data": {
      "text/plain": [
       "1026"
      ]
     },
     "execution_count": 31,
     "metadata": {},
     "output_type": "execute_result"
    }
   ],
   "source": [
    "del(mat)\n",
    "gc.collect()"
   ]
  },
  {
   "cell_type": "markdown",
   "id": "24496707",
   "metadata": {},
   "source": [
    "### Testing dataset loading"
   ]
  },
  {
   "cell_type": "code",
   "execution_count": 32,
   "id": "c00166ac",
   "metadata": {},
   "outputs": [],
   "source": [
    "mat = scipy.io.loadmat('./PreprocessingData/test_32x32.mat')"
   ]
  },
  {
   "cell_type": "code",
   "execution_count": 33,
   "id": "bb5bd02d",
   "metadata": {},
   "outputs": [],
   "source": [
    "x_test = mat['X']\n",
    "y_test = mat['y']"
   ]
  },
  {
   "cell_type": "code",
   "execution_count": 34,
   "id": "6f2e06ff",
   "metadata": {},
   "outputs": [
    {
     "data": {
      "text/plain": [
       "(32, 32, 3, 26032)"
      ]
     },
     "execution_count": 34,
     "metadata": {},
     "output_type": "execute_result"
    }
   ],
   "source": [
    "x_test.shape"
   ]
  },
  {
   "cell_type": "code",
   "execution_count": 35,
   "id": "74a2b338",
   "metadata": {},
   "outputs": [],
   "source": [
    "x_testAux = []\n",
    "for i in range(x_test.shape[3]):\n",
    "    x_testAux.append(x_test[:,:,:,i].reshape((32,32,3)))\n",
    "x_test = np.array(x_testAux)\n",
    "del(x_testAux)"
   ]
  },
  {
   "cell_type": "code",
   "execution_count": 36,
   "id": "39f3bbf3",
   "metadata": {},
   "outputs": [
    {
     "data": {
      "text/plain": [
       "(26032, 32, 32, 3)"
      ]
     },
     "execution_count": 36,
     "metadata": {},
     "output_type": "execute_result"
    }
   ],
   "source": [
    "x_test.shape"
   ]
  },
  {
   "cell_type": "code",
   "execution_count": 37,
   "id": "0a4218ea",
   "metadata": {},
   "outputs": [
    {
     "data": {
      "image/png": "[encoded data removed]",
      "text/plain": [
       "<Figure size 640x480 with 1 Axes>"
      ]
     },
     "metadata": {},
     "output_type": "display_data"
    }
   ],
   "source": [
    "pixels = x_train[0].reshape((32,32,3))\n",
    "plt.imshow(pixels)\n",
    "plt.show()"
   ]
  },
  {
   "cell_type": "markdown",
   "id": "6d44ea98",
   "metadata": {},
   "source": [
    "### Data normalization"
   ]
  },
  {
   "cell_type": "code",
   "execution_count": 38,
   "id": "0fbca684",
   "metadata": {},
   "outputs": [],
   "source": [
    "x_train = np.divide(x_train,255)\n",
    "x_test = np.divide(x_test,255)"
   ]
  },
  {
   "cell_type": "code",
   "execution_count": 39,
   "id": "6732301c",
   "metadata": {},
   "outputs": [],
   "source": [
    "y_train = np.subtract(y_train,1)\n",
    "y_test = np.subtract(y_test,1)"
   ]
  },
  {
   "cell_type": "code",
   "execution_count": 40,
   "id": "c60746e1",
   "metadata": {},
   "outputs": [
    {
     "name": "stdout",
     "output_type": "stream",
     "text": [
      "(73257, 32, 32, 3)\n",
      "(26032, 32, 32, 3)\n",
      "(73257, 10)\n",
      "(26032, 10)\n"
     ]
    }
   ],
   "source": [
    "y_trainAux = np.zeros((y_train.shape[0],10))\n",
    "y_testAux = np.zeros((y_test.shape[0],10))\n",
    "for i in range(y_train.shape[0]):\n",
    "    y_trainAux[i][y_train[i]] = 1.0\n",
    "for i in range(y_test.shape[0]):\n",
    "    y_testAux[i][y_test[i]] = 1.0\n",
    "\n",
    "y_train = y_trainAux\n",
    "y_test = y_testAux\n",
    "del(y_trainAux)\n",
    "del(y_testAux)\n",
    "print(x_train.shape)\n",
    "print(x_test.shape)\n",
    "print(y_train.shape)\n",
    "print(y_test.shape)"
   ]
  },
  {
   "cell_type": "markdown",
   "id": "eb69b8cb",
   "metadata": {},
   "source": [
    "### Data saving"
   ]
  },
  {
   "cell_type": "code",
   "execution_count": 41,
   "id": "bf5f0292",
   "metadata": {},
   "outputs": [],
   "source": [
    "np.save('./ModelData/x_train-SVHN', x_train)\n",
    "np.save('./ModelData/y_train-SVHN', y_train)\n",
    "np.save('./ModelData/x_test-SVHN', x_test)\n",
    "np.save('./ModelData/y_test-SVHN', y_test)"
   ]
  },
  {
   "cell_type": "code",
   "execution_count": 42,
   "id": "1b8180cd",
   "metadata": {},
   "outputs": [
    {
     "data": {
      "text/plain": [
       "3104"
      ]
     },
     "execution_count": 42,
     "metadata": {},
     "output_type": "execute_result"
    }
   ],
   "source": [
    "del(x_train)\n",
    "del(x_test)\n",
    "del(y_train)\n",
    "del(y_test)\n",
    "gc.collect()"
   ]
  },
  {
   "cell_type": "markdown",
   "id": "5057f737",
   "metadata": {},
   "source": [
    "# Fashion MNIST"
   ]
  },
  {
   "cell_type": "markdown",
   "id": "16db0663",
   "metadata": {},
   "source": [
    "### Dataset loading"
   ]
  },
  {
   "cell_type": "code",
   "execution_count": 6,
   "id": "c43ede2a",
   "metadata": {},
   "outputs": [
    {
     "name": "stdout",
     "output_type": "stream",
     "text": [
      "(60000, 28, 28)\n",
      "(10000, 28, 28)\n",
      "(60000,)\n",
      "(10000,)\n"
     ]
    }
   ],
   "source": [
    "(x_train, y_train), (x_test, y_test) = keras.datasets.fashion_mnist.load_data()\n",
    "print(x_train.shape)\n",
    "print(x_test.shape)\n",
    "print(y_train.shape)\n",
    "print(y_test.shape)"
   ]
  },
  {
   "cell_type": "code",
   "execution_count": 7,
   "id": "d1778db8",
   "metadata": {},
   "outputs": [],
   "source": [
    "x_train = np.array(x_train).reshape(60000, 784)\n",
    "x_test = np.array(x_test).reshape(10000, 784)"
   ]
  },
  {
   "cell_type": "code",
   "execution_count": 9,
   "id": "ed6bbc0b",
   "metadata": {},
   "outputs": [
    {
     "name": "stdout",
     "output_type": "stream",
     "text": [
      "(60000, 784)\n",
      "(10000, 784)\n"
     ]
    }
   ],
   "source": [
    "print(x_train.shape)\n",
    "print(x_test.shape)"
   ]
  },
  {
   "cell_type": "markdown",
   "id": "7debaac4",
   "metadata": {},
   "source": [
    "### Data normalization"
   ]
  },
  {
   "cell_type": "code",
   "execution_count": 10,
   "id": "c1d89a65",
   "metadata": {},
   "outputs": [],
   "source": [
    "x_train = np.divide(x_train,255)\n",
    "x_test = np.divide(x_test,255)"
   ]
  },
  {
   "cell_type": "code",
   "execution_count": 11,
   "id": "f6929f67",
   "metadata": {},
   "outputs": [
    {
     "name": "stdout",
     "output_type": "stream",
     "text": [
      "(60000, 784)\n",
      "(10000, 784)\n",
      "(60000, 10)\n",
      "(10000, 10)\n"
     ]
    }
   ],
   "source": [
    "y_trainAux = np.zeros((y_train.shape[0],10))\n",
    "y_testAux = np.zeros((y_test.shape[0],10))\n",
    "for i in range(y_train.shape[0]):\n",
    "    y_trainAux[i][y_train[i]] = 1.0\n",
    "for i in range(y_test.shape[0]):\n",
    "    y_testAux[i][y_test[i]] = 1.0\n",
    "\n",
    "y_train = y_trainAux\n",
    "y_test = y_testAux\n",
    "print(x_train.shape)\n",
    "print(x_test.shape)\n",
    "print(y_train.shape)\n",
    "print(y_test.shape)"
   ]
  },
  {
   "cell_type": "markdown",
   "id": "e7cda2f9",
   "metadata": {},
   "source": [
    "### Data saving"
   ]
  },
  {
   "cell_type": "code",
   "execution_count": 12,
   "id": "31e3324d",
   "metadata": {},
   "outputs": [],
   "source": [
    "np.save('./ModelData/x_train-FASHION', x_train)\n",
    "np.save('./ModelData/y_train-FASHION', y_train)\n",
    "np.save('./ModelData/x_test-FASHION', x_test)\n",
    "np.save('./ModelData/y_test-FASHION', y_test)"
   ]
  },
  {
   "cell_type": "code",
   "execution_count": 13,
   "id": "e157a08c",
   "metadata": {},
   "outputs": [
    {
     "data": {
      "text/plain": [
       "951"
      ]
     },
     "execution_count": 13,
     "metadata": {},
     "output_type": "execute_result"
    }
   ],
   "source": [
    "del(x_train)\n",
    "del(x_test)\n",
    "del(y_train)\n",
    "del(y_test)\n",
    "gc.collect()"
   ]
  },
  {
   "cell_type": "markdown",
   "id": "f7a07ac7",
   "metadata": {},
   "source": [
    "# Boston Housing"
   ]
  },
  {
   "cell_type": "markdown",
   "id": "4a827b22",
   "metadata": {},
   "source": [
    "### Dataset loading"
   ]
  },
  {
   "cell_type": "code",
   "execution_count": 14,
   "id": "289476aa",
   "metadata": {},
   "outputs": [
    {
     "name": "stdout",
     "output_type": "stream",
     "text": [
      "(404, 13)\n",
      "(102, 13)\n",
      "(404,)\n",
      "(102,)\n"
     ]
    }
   ],
   "source": [
    "(x_train, y_train), (x_test, y_test) = keras.datasets.boston_housing.load_data()\n",
    "print(x_train.shape)\n",
    "print(x_test.shape)\n",
    "print(y_train.shape)\n",
    "print(y_test.shape)"
   ]
  },
  {
   "cell_type": "markdown",
   "id": "75122c43",
   "metadata": {},
   "source": [
    "### Data normalization"
   ]
  },
  {
   "cell_type": "code",
   "execution_count": 15,
   "id": "7b1c4372",
   "metadata": {},
   "outputs": [],
   "source": [
    "x_train = np.divide(x_train,np.max(x_train, axis=0))\n",
    "x_test = np.divide(x_test,np.max(x_train, axis=0))"
   ]
  },
  {
   "cell_type": "markdown",
   "id": "73d3045b",
   "metadata": {},
   "source": [
    "### Data saving"
   ]
  },
  {
   "cell_type": "code",
   "execution_count": 16,
   "id": "e0d145da",
   "metadata": {},
   "outputs": [],
   "source": [
    "np.save('./ModelData/x_train-BOSTON', x_train)\n",
    "np.save('./ModelData/y_train-BOSTON', y_train)\n",
    "np.save('./ModelData/x_test-BOSTON', x_test)\n",
    "np.save('./ModelData/y_test-BOSTON', y_test)"
   ]
  },
  {
   "cell_type": "code",
   "execution_count": 17,
   "id": "bfb74df1",
   "metadata": {},
   "outputs": [
    {
     "data": {
      "text/plain": [
       "22"
      ]
     },
     "execution_count": 17,
     "metadata": {},
     "output_type": "execute_result"
    }
   ],
   "source": [
    "del(x_train)\n",
    "del(x_test)\n",
    "del(y_train)\n",
    "del(y_test)\n",
    "gc.collect()"
   ]
  },
  {
   "cell_type": "markdown",
   "id": "0939408c",
   "metadata": {},
   "source": [
    "# Ox Flowers17"
   ]
  },
  {
   "cell_type": "markdown",
   "id": "a4a55139",
   "metadata": {},
   "source": [
    "### Dataset loading"
   ]
  },
  {
   "cell_type": "code",
   "execution_count": 29,
   "id": "5236c5a2",
   "metadata": {},
   "outputs": [
    {
     "name": "stdout",
     "output_type": "stream",
     "text": [
      "WARNING:tensorflow:From C:\\Users\\jptl2\\anaconda3\\envs\\tf\\lib\\site-packages\\tensorflow\\python\\compat\\v2_compat.py:107: disable_resource_variables (from tensorflow.python.ops.variable_scope) is deprecated and will be removed in a future version.\n",
      "Instructions for updating:\n",
      "non-resource variables are not supported in the long term\n",
      "curses is not supported on this machine (please install/reinstall curses for an optimal experience)\n"
     ]
    }
   ],
   "source": [
    "import tflearn.datasets.oxflower17 as oxflower17"
   ]
  },
  {
   "cell_type": "code",
   "execution_count": 30,
   "id": "8a4275f5",
   "metadata": {},
   "outputs": [
    {
     "name": "stdout",
     "output_type": "stream",
     "text": [
      "Downloading Oxford 17 category Flower Dataset, Please wait...\n"
     ]
    },
    {
     "name": "stderr",
     "output_type": "stream",
     "text": [
      "100.0% 60276736 / 60270631\n"
     ]
    },
    {
     "name": "stdout",
     "output_type": "stream",
     "text": [
      "Succesfully downloaded 17flowers.tgz 60270631 bytes.\n",
      "File Extracted\n",
      "Starting to parse images...\n",
      "Parsing Done!\n"
     ]
    }
   ],
   "source": [
    "x, y = oxflower17.load_data(one_hot=True)"
   ]
  },
  {
   "cell_type": "markdown",
   "id": "f2ea7437",
   "metadata": {},
   "source": [
    "### Data saving"
   ]
  },
  {
   "cell_type": "code",
   "execution_count": 32,
   "id": "f86ebca0",
   "metadata": {},
   "outputs": [],
   "source": [
    "np.save('./ModelData/x-FLOWER', x)\n",
    "np.save('./ModelData/y-FLOWER', y)"
   ]
  },
  {
   "cell_type": "code",
   "execution_count": 34,
   "id": "c4e6ca90",
   "metadata": {},
   "outputs": [
    {
     "data": {
      "text/plain": [
       "42"
      ]
     },
     "execution_count": 34,
     "metadata": {},
     "output_type": "execute_result"
    }
   ],
   "source": [
    "del(x)\n",
    "del(y)\n",
    "gc.collect()"
   ]
  },
  {
   "cell_type": "markdown",
   "id": "ea5c84f6",
   "metadata": {},
   "source": [
    "# Skin tumor"
   ]
  },
  {
   "cell_type": "markdown",
   "id": "500e00c8",
   "metadata": {},
   "source": [
    "### Dataset loading and transformation"
   ]
  },
  {
   "cell_type": "code",
   "execution_count": 19,
   "id": "5d5908f5",
   "metadata": {},
   "outputs": [],
   "source": [
    "import numpy\n",
    "from pandas import read_csv\n",
    "from keras.models import Sequential\n",
    "from keras.layers import Dense\n",
    "from keras.layers import Dropout\n",
    "from keras.wrappers.scikit_learn import KerasClassifier\n",
    "from keras.constraints import maxnorm\n",
    "from keras.optimizers import SGD\n",
    "from sklearn.model_selection import cross_val_score\n",
    "from sklearn.preprocessing import LabelEncoder\n",
    "from sklearn.model_selection import StratifiedKFold\n",
    "from sklearn.preprocessing import MinMaxScaler\n",
    "from sklearn.preprocessing import StandardScaler\n",
    "from sklearn.pipeline import Pipeline\n",
    "from keras.utils import np_utils\n",
    "from sklearn.utils import shuffle\n",
    "import json\n",
    "import keras\n",
    "import tensorflow as tf\n",
    "import pandas as pd\n",
    "import gc"
   ]
  },
  {
   "cell_type": "code",
   "execution_count": 25,
   "id": "db70d28a",
   "metadata": {},
   "outputs": [
    {
     "name": "stdout",
     "output_type": "stream",
     "text": [
      "(1200, 15)\n",
      "(300, 15)\n",
      "(1200, 3)\n",
      "(300, 3)\n"
     ]
    }
   ],
   "source": [
    "# fix random seed for reproducibility\n",
    "seed = 7\n",
    "numpy.random.seed(seed)\n",
    "dataframe = read_csv(\"./PreprocessingData/skinTumorData.csv\", header=None)\n",
    "dataset = dataframe.values\n",
    "X = dataset[:,0:15].astype(float)\n",
    "Y = dataset[:,15]\n",
    "X, Y = shuffle(X, Y)\n",
    "x_train = X[:int(X.shape[0]*0.8)]\n",
    "y_train = Y[:int(Y.shape[0]*0.8)]\n",
    "y_test = Y[int(Y.shape[0]*0.8):]\n",
    "x_test = X[int(X.shape[0]*0.8):]\n",
    "encoder = LabelEncoder()\n",
    "encoder.fit(Y)\n",
    "encoded_Y = encoder.transform(Y)\n",
    "\n",
    "# convert integers to dummy variables (i.e. one hot encoded)\n",
    "dummy_y = np_utils.to_categorical(encoded_Y)\n",
    "\n",
    "y_train = numpy.subtract(y_train,1)\n",
    "y_test = numpy.subtract(y_test,1)\n",
    "y_trainAux = numpy.zeros((y_train.shape[0],3))\n",
    "y_testAux = numpy.zeros((y_test.shape[0],3))\n",
    "for i in range(y_train.shape[0]):\n",
    "    y_trainAux[i][int(y_train[i])] = 1.0\n",
    "for i in range(y_test.shape[0]):\n",
    "    y_testAux[i][int(y_test[i])] = 1.0\n",
    "\n",
    "y_train = y_trainAux\n",
    "y_test = y_testAux\n",
    "del(y_trainAux)\n",
    "del(y_testAux)\n",
    "print(x_train.shape)\n",
    "print(x_test.shape)\n",
    "print(y_train.shape)\n",
    "print(y_test.shape)"
   ]
  },
  {
   "cell_type": "markdown",
   "id": "b2cea142",
   "metadata": {},
   "source": [
    "### Data saving"
   ]
  },
  {
   "cell_type": "code",
   "execution_count": 26,
   "id": "eefc9b2c",
   "metadata": {},
   "outputs": [],
   "source": [
    "np.save('./ModelData/x_train-SKIN', x_train)\n",
    "np.save('./ModelData/y_train-SKIN', y_train)\n",
    "np.save('./ModelData/x_test-SKIN', x_test)\n",
    "np.save('./ModelData/y_test-SKIN', y_test)"
   ]
  },
  {
   "cell_type": "code",
   "execution_count": 27,
   "id": "6b80c8be",
   "metadata": {},
   "outputs": [
    {
     "data": {
      "text/plain": [
       "2533"
      ]
     },
     "execution_count": 27,
     "metadata": {},
     "output_type": "execute_result"
    }
   ],
   "source": [
    "del(x_train)\n",
    "del(x_test)\n",
    "del(y_train)\n",
    "del(y_test)\n",
    "del(X)\n",
    "del(Y)\n",
    "del(dataframe)\n",
    "gc.collect()"
   ]
  },
  {
   "cell_type": "code",
   "execution_count": null,
   "id": "ad0f9e45",
   "metadata": {},
   "outputs": [],
   "source": []
  }
 ],
 "metadata": {
  "kernelspec": {
   "display_name": "Python 3 (ipykernel)",
   "language": "python",
   "name": "python3"
  },
  "language_info": {
   "codemirror_mode": {
    "name": "ipython",
    "version": 3
   },
   "file_extension": ".py",
   "mimetype": "text/x-python",
   "name": "python",
   "nbconvert_exporter": "python",
   "pygments_lexer": "ipython3",
   "version": "3.10.8"
  }
 },
 "nbformat": 4,
 "nbformat_minor": 5
}
