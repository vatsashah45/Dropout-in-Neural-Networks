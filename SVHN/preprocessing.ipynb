{
 "cells": [
  {
   "cell_type": "code",
   "execution_count": 37,
   "id": "a221b11f",
   "metadata": {},
   "outputs": [],
   "source": [
    "import scipy.io\n",
    "import numpy as np\n",
    "import matplotlib.pyplot as plt"
   ]
  },
  {
   "cell_type": "code",
   "execution_count": 38,
   "id": "1abffdff",
   "metadata": {},
   "outputs": [],
   "source": [
    "mat = scipy.io.loadmat('train_32x32.mat')"
   ]
  },
  {
   "cell_type": "code",
   "execution_count": 39,
   "id": "57325c7e",
   "metadata": {},
   "outputs": [],
   "source": [
    "x_train = mat['X']\n",
    "y_train = mat['y']"
   ]
  },
  {
   "cell_type": "code",
   "execution_count": 40,
   "id": "78a6e225",
   "metadata": {},
   "outputs": [],
   "source": [
    "x_trainAux = []\n",
    "for i in range(x_train.shape[3]):\n",
    "    x_trainAux.append(x_train[:,:,:,i].reshape((32,32,3)))\n",
    "x_train = np.array(x_trainAux)"
   ]
  },
  {
   "cell_type": "code",
   "execution_count": 43,
   "id": "e3671fbd",
   "metadata": {},
   "outputs": [],
   "source": [
    "mat = scipy.io.loadmat('test_32x32.mat')"
   ]
  },
  {
   "cell_type": "code",
   "execution_count": 44,
   "id": "91c330c9",
   "metadata": {},
   "outputs": [],
   "source": [
    "x_test = mat['X']\n",
    "y_test = mat['y']"
   ]
  },
  {
   "cell_type": "code",
   "execution_count": 45,
   "id": "311b8c42",
   "metadata": {},
   "outputs": [
    {
     "data": {
      "text/plain": [
       "(32, 32, 3, 26032)"
      ]
     },
     "execution_count": 45,
     "metadata": {},
     "output_type": "execute_result"
    }
   ],
   "source": [
    "x_test.shape"
   ]
  },
  {
   "cell_type": "code",
   "execution_count": 47,
   "id": "d9f3f611",
   "metadata": {},
   "outputs": [],
   "source": [
    "x_testAux = []\n",
    "for i in range(x_test.shape[3]):\n",
    "    x_testAux.append(x_test[:,:,:,i].reshape((32,32,3)))\n",
    "x_test = np.array(x_testAux)"
   ]
  },
  {
   "cell_type": "code",
   "execution_count": 48,
   "id": "8f9cfd1a",
   "metadata": {},
   "outputs": [
    {
     "data": {
      "text/plain": [
       "(26032, 32, 32, 3)"
      ]
     },
     "execution_count": 48,
     "metadata": {},
     "output_type": "execute_result"
    }
   ],
   "source": [
    "x_test.shape"
   ]
  },
  {
   "cell_type": "code",
   "execution_count": 49,
   "id": "4696efbc",
   "metadata": {},
   "outputs": [
    {
     "data": {
      "image/png": "[encoded data removed]",
      "text/plain": [
       "<Figure size 640x480 with 1 Axes>"
      ]
     },
     "metadata": {},
     "output_type": "display_data"
    }
   ],
   "source": [
    "pixels = x_train[0].reshape((32,32,3))\n",
    "plt.imshow(pixels)\n",
    "plt.savefig('Example2.png', bbox_inches='tight')\n",
    "plt.show()"
   ]
  },
  {
   "cell_type": "code",
   "execution_count": 50,
   "id": "aec42794",
   "metadata": {},
   "outputs": [],
   "source": [
    "x_train = np.divide(x_train,255)\n",
    "x_test = np.divide(x_test,255)"
   ]
  },
  {
   "cell_type": "code",
   "execution_count": 51,
   "id": "3c405de4",
   "metadata": {},
   "outputs": [],
   "source": [
    "y_train = np.subtract(y_train,1)\n",
    "y_test = np.subtract(y_test,1)"
   ]
  },
  {
   "cell_type": "code",
   "execution_count": 52,
   "id": "9298d48f",
   "metadata": {},
   "outputs": [
    {
     "name": "stdout",
     "output_type": "stream",
     "text": [
      "(73257, 32, 32, 3)\n",
      "(26032, 32, 32, 3)\n",
      "(73257, 10)\n",
      "(26032, 10)\n"
     ]
    }
   ],
   "source": [
    "y_trainAux = np.zeros((y_train.shape[0],10))\n",
    "y_testAux = np.zeros((y_test.shape[0],10))\n",
    "for i in range(y_train.shape[0]):\n",
    "    y_trainAux[i][y_train[i]] = 1.0\n",
    "for i in range(y_test.shape[0]):\n",
    "    y_testAux[i][y_test[i]] = 1.0\n",
    "\n",
    "y_train = y_trainAux\n",
    "y_test = y_testAux\n",
    "print(x_train.shape)\n",
    "print(x_test.shape)\n",
    "print(y_train.shape)\n",
    "print(y_test.shape)"
   ]
  },
  {
   "cell_type": "code",
   "execution_count": 53,
   "id": "37941db6",
   "metadata": {},
   "outputs": [],
   "source": [
    "np.save('x_train', x_train)\n",
    "np.save('y_train', y_train)\n",
    "np.save('x_test', x_test)\n",
    "np.save('y_test', y_test)"
   ]
  },
  {
   "cell_type": "code",
   "execution_count": null,
   "id": "417f4692",
   "metadata": {},
   "outputs": [],
   "source": []
  }
 ],
 "metadata": {
  "kernelspec": {
   "display_name": "Python 3 (ipykernel)",
   "language": "python",
   "name": "python3"
  },
  "language_info": {
   "codemirror_mode": {
    "name": "ipython",
    "version": 3
   },
   "file_extension": ".py",
   "mimetype": "text/x-python",
   "name": "python",
   "nbconvert_exporter": "python",
   "pygments_lexer": "ipython3",
   "version": "3.9.15"
  }
 },
 "nbformat": 4,
 "nbformat_minor": 5
}
