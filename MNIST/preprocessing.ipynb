{
 "cells": [
  {
   "cell_type": "code",
   "execution_count": 2,
   "id": "a0fb93ce",
   "metadata": {},
   "outputs": [],
   "source": [
    "import tensorflow as tf\n",
    "from tensorflow import keras\n",
    "import numpy as np\n",
    "import tensorflow_datasets as tfds\n",
    "import matplotlib.pyplot as plt"
   ]
  },
  {
   "cell_type": "code",
   "execution_count": 3,
   "id": "7c96309c",
   "metadata": {},
   "outputs": [
    {
     "name": "stdout",
     "output_type": "stream",
     "text": [
      "Downloading data from https://storage.googleapis.com/tensorflow/tf-keras-datasets/mnist.npz\n",
      "11490434/11490434 [==============================] - 2s 0us/step\n",
      "(60000, 28, 28)\n",
      "(10000, 28, 28)\n",
      "(60000,)\n",
      "(10000,)\n"
     ]
    }
   ],
   "source": [
    "(x_trainM, y_trainM), (x_testM, y_testM) = keras.datasets.mnist.load_data()\n",
    "print(x_trainM.shape)\n",
    "print(x_testM.shape)\n",
    "print(y_trainM.shape)\n",
    "print(y_testM.shape)"
   ]
  },
  {
   "cell_type": "code",
   "execution_count": 4,
   "id": "b4a6c8a4",
   "metadata": {},
   "outputs": [
    {
     "name": "stdout",
     "output_type": "stream",
     "text": [
      "Downloading data from https://www.cs.toronto.edu/~kriz/cifar-10-python.tar.gz\n",
      "170498071/170498071 [==============================] - 29s 0us/step\n",
      "(50000, 32, 32, 3)\n",
      "(10000, 32, 32, 3)\n",
      "(50000, 1)\n",
      "(10000, 1)\n"
     ]
    }
   ],
   "source": [
    "(x_trainC, y_trainC), (x_testC, y_testC) = keras.datasets.cifar10.load_data()\n",
    "print(x_trainC.shape)\n",
    "print(x_testC.shape)\n",
    "print(y_trainC.shape)\n",
    "print(y_testC.shape)"
   ]
  },
  {
   "cell_type": "code",
   "execution_count": 5,
   "id": "e874353e",
   "metadata": {},
   "outputs": [],
   "source": [
    "x_trainM = np.array(x_trainM).reshape(60000, 784)\n",
    "x_testM = np.array(x_testM).reshape(10000, 784)\n",
    "\n",
    "x_trainC = np.array(x_trainC).reshape(50000, 1024, 3)\n",
    "x_testC = np.array(x_testC).reshape(10000, 1024, 3)"
   ]
  },
  {
   "cell_type": "code",
   "execution_count": 6,
   "id": "8f7a27c5",
   "metadata": {},
   "outputs": [
    {
     "name": "stdout",
     "output_type": "stream",
     "text": [
      "(50000, 1024, 3)\n",
      "(10000, 1024, 3)\n",
      "(50000, 1)\n",
      "(10000, 1)\n"
     ]
    }
   ],
   "source": [
    "print(x_trainC.shape)\n",
    "print(x_testC.shape)\n",
    "print(y_trainC.shape)\n",
    "print(y_testC.shape)"
   ]
  },
  {
   "cell_type": "code",
   "execution_count": 7,
   "id": "d987d4a8",
   "metadata": {},
   "outputs": [],
   "source": [
    "x_trainC = np.divide(np.sum(x_trainC,axis=2),3)\n",
    "x_testC = np.divide(np.sum(x_testC,axis=2),3)"
   ]
  },
  {
   "cell_type": "code",
   "execution_count": 8,
   "id": "d3fcfb2e",
   "metadata": {},
   "outputs": [
    {
     "name": "stdout",
     "output_type": "stream",
     "text": [
      "(50000, 1024)\n",
      "(10000, 1024)\n",
      "(50000, 1)\n",
      "(10000, 1)\n"
     ]
    }
   ],
   "source": [
    "print(x_trainC.shape)\n",
    "print(x_testC.shape)\n",
    "print(y_trainC.shape)\n",
    "print(y_testC.shape)"
   ]
  },
  {
   "cell_type": "code",
   "execution_count": 9,
   "id": "30808e70",
   "metadata": {},
   "outputs": [
    {
     "data": {
      "image/png": "[encoded data removed]",
      "text/plain": [
       "<Figure size 640x480 with 1 Axes>"
      ]
     },
     "metadata": {},
     "output_type": "display_data"
    }
   ],
   "source": [
    "pixels = x_trainM[0].reshape((28,28))\n",
    "plt.imshow(pixels, cmap='gray')\n",
    "plt.show()"
   ]
  },
  {
   "cell_type": "code",
   "execution_count": 10,
   "id": "06d65f88",
   "metadata": {},
   "outputs": [
    {
     "data": {
      "image/png": "[encoded data removed]",
      "text/plain": [
       "<Figure size 640x480 with 1 Axes>"
      ]
     },
     "metadata": {},
     "output_type": "display_data"
    }
   ],
   "source": [
    "pixels = x_trainC[0].reshape((32,32))\n",
    "plt.imshow(pixels, cmap='gray')\n",
    "plt.show()"
   ]
  },
  {
   "cell_type": "code",
   "execution_count": 11,
   "id": "507c69c8",
   "metadata": {},
   "outputs": [],
   "source": [
    "x_trainM = np.divide(x_trainM,255)\n",
    "x_testM = np.divide(x_testM,255)"
   ]
  },
  {
   "cell_type": "code",
   "execution_count": 12,
   "id": "88116b78",
   "metadata": {},
   "outputs": [
    {
     "name": "stdout",
     "output_type": "stream",
     "text": [
      "(60000, 784)\n",
      "(10000, 784)\n",
      "(60000, 10)\n",
      "(10000, 10)\n"
     ]
    }
   ],
   "source": [
    "y_trainAux = np.zeros((y_trainM.shape[0],10))\n",
    "y_testAux = np.zeros((y_testM.shape[0],10))\n",
    "for i in range(y_trainM.shape[0]):\n",
    "    y_trainAux[i][y_trainM[i]] = 1.0\n",
    "for i in range(y_testM.shape[0]):\n",
    "    y_testAux[i][y_testM[i]] = 1.0\n",
    "\n",
    "y_trainM = y_trainAux\n",
    "y_testM = y_testAux\n",
    "print(x_trainM.shape)\n",
    "print(x_testM.shape)\n",
    "print(y_trainM.shape)\n",
    "print(y_testM.shape)"
   ]
  },
  {
   "cell_type": "markdown",
   "id": "8cbdef5e",
   "metadata": {},
   "source": [
    "## Save training and test datasets"
   ]
  },
  {
   "cell_type": "code",
   "execution_count": 13,
   "id": "005aa7e5",
   "metadata": {},
   "outputs": [],
   "source": [
    "np.savetxt('x_trainM', x_trainM)\n",
    "np.savetxt('y_trainM', y_trainM)\n",
    "np.savetxt('x_testM', x_testM)\n",
    "np.savetxt('y_testM', y_testM)"
   ]
  },
  {
   "cell_type": "code",
   "execution_count": null,
   "id": "d9ee6454",
   "metadata": {},
   "outputs": [],
   "source": []
  }
 ],
 "metadata": {
  "kernelspec": {
   "display_name": "Python 3 (ipykernel)",
   "language": "python",
   "name": "python3"
  },
  "language_info": {
   "codemirror_mode": {
    "name": "ipython",
    "version": 3
   },
   "file_extension": ".py",
   "mimetype": "text/x-python",
   "name": "python",
   "nbconvert_exporter": "python",
   "pygments_lexer": "ipython3",
   "version": "3.10.8"
  }
 },
 "nbformat": 4,
 "nbformat_minor": 5
}
