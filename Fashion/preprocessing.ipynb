{
 "cells": [
  {
   "cell_type": "code",
   "execution_count": 1,
   "id": "a0fb93ce",
   "metadata": {},
   "outputs": [
    {
     "name": "stderr",
     "output_type": "stream",
     "text": [
      "C:\\Users\\jptl2\\anaconda3\\envs\\tf\\lib\\site-packages\\tqdm\\auto.py:22: TqdmWarning: IProgress not found. Please update jupyter and ipywidgets. See https://ipywidgets.readthedocs.io/en/stable/user_install.html\n",
      "  from .autonotebook import tqdm as notebook_tqdm\n"
     ]
    }
   ],
   "source": [
    "import tensorflow as tf\n",
    "from tensorflow import keras\n",
    "import numpy as np\n",
    "import tensorflow_datasets as tfds\n",
    "import matplotlib.pyplot as plt"
   ]
  },
  {
   "cell_type": "code",
   "execution_count": 2,
   "id": "7c96309c",
   "metadata": {},
   "outputs": [
    {
     "name": "stdout",
     "output_type": "stream",
     "text": [
      "(60000, 28, 28)\n",
      "(10000, 28, 28)\n",
      "(60000,)\n",
      "(10000,)\n"
     ]
    }
   ],
   "source": [
    "(X_train, y_train), (X_test, y_test) = keras.datasets.fashion_mnist.load_data()\n",
    "print(X_train.shape)\n",
    "print(X_test.shape)\n",
    "print(y_train.shape)\n",
    "print(y_test.shape)"
   ]
  },
  {
   "cell_type": "code",
   "execution_count": 3,
   "id": "e874353e",
   "metadata": {},
   "outputs": [],
   "source": [
    "X_train = np.array(X_train).reshape(60000, 784)\n",
    "X_test = np.array(X_test).reshape(10000, 784)"
   ]
  },
  {
   "cell_type": "code",
   "execution_count": 5,
   "id": "71375252",
   "metadata": {},
   "outputs": [
    {
     "data": {
      "image/png": "[encoded data removed]",
      "text/plain": [
       "<Figure size 640x480 with 1 Axes>"
      ]
     },
     "metadata": {},
     "output_type": "display_data"
    }
   ],
   "source": [
    "pixels = X_train[1].reshape((28,28))\n",
    "plt.imshow(pixels, cmap='gray')\n",
    "plt.savefig('Example2.png', bbox_inches='tight')\n",
    "plt.show()"
   ]
  },
  {
   "cell_type": "code",
   "execution_count": 8,
   "id": "507c69c8",
   "metadata": {},
   "outputs": [],
   "source": [
    "X_train = np.divide(X_train,255)\n",
    "X_test = np.divide(X_test,255)"
   ]
  },
  {
   "cell_type": "code",
   "execution_count": 9,
   "id": "88116b78",
   "metadata": {},
   "outputs": [
    {
     "name": "stdout",
     "output_type": "stream",
     "text": [
      "(60000, 784)\n",
      "(10000, 784)\n",
      "(60000, 10)\n",
      "(10000, 10)\n"
     ]
    }
   ],
   "source": [
    "y_trainAux = np.zeros((y_train.shape[0],10))\n",
    "y_testAux = np.zeros((y_test.shape[0],10))\n",
    "for i in range(y_train.shape[0]):\n",
    "    y_trainAux[i][y_train[i]] = 1.0\n",
    "for i in range(y_test.shape[0]):\n",
    "    y_testAux[i][y_test[i]] = 1.0\n",
    "\n",
    "y_train = y_trainAux\n",
    "y_test = y_testAux\n",
    "print(X_train.shape)\n",
    "print(X_test.shape)\n",
    "print(y_train.shape)\n",
    "print(y_test.shape)"
   ]
  },
  {
   "cell_type": "markdown",
   "id": "8cbdef5e",
   "metadata": {},
   "source": [
    "## Save training and test datasets"
   ]
  },
  {
   "cell_type": "code",
   "execution_count": 12,
   "id": "005aa7e5",
   "metadata": {},
   "outputs": [],
   "source": [
    "np.savetxt('x_train', X_train)\n",
    "np.savetxt('y_train', y_train)\n",
    "np.savetxt('x_test', X_test)\n",
    "np.savetxt('y_test', y_test)"
   ]
  },
  {
   "cell_type": "code",
   "execution_count": null,
   "id": "d9ee6454",
   "metadata": {},
   "outputs": [],
   "source": []
  }
 ],
 "metadata": {
  "kernelspec": {
   "display_name": "Python 3 (ipykernel)",
   "language": "python",
   "name": "python3"
  },
  "language_info": {
   "codemirror_mode": {
    "name": "ipython",
    "version": 3
   },
   "file_extension": ".py",
   "mimetype": "text/x-python",
   "name": "python",
   "nbconvert_exporter": "python",
   "pygments_lexer": "ipython3",
   "version": "3.10.8"
  }
 },
 "nbformat": 4,
 "nbformat_minor": 5
}
