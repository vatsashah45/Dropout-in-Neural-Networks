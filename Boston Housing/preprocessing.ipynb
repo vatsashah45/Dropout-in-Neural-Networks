{
 "cells": [
  {
   "cell_type": "code",
   "execution_count": 1,
   "id": "a0fb93ce",
   "metadata": {},
   "outputs": [
    {
     "name": "stderr",
     "output_type": "stream",
     "text": [
      "C:\\Users\\jptl2\\anaconda3\\envs\\tf\\lib\\site-packages\\tqdm\\auto.py:22: TqdmWarning: IProgress not found. Please update jupyter and ipywidgets. See https://ipywidgets.readthedocs.io/en/stable/user_install.html\n",
      "  from .autonotebook import tqdm as notebook_tqdm\n"
     ]
    }
   ],
   "source": [
    "import tensorflow as tf\n",
    "from tensorflow import keras\n",
    "import numpy as np\n",
    "import tensorflow_datasets as tfds"
   ]
  },
  {
   "cell_type": "code",
   "execution_count": 2,
   "id": "7c96309c",
   "metadata": {},
   "outputs": [
    {
     "name": "stdout",
     "output_type": "stream",
     "text": [
      "Downloading data from https://storage.googleapis.com/tensorflow/tf-keras-datasets/boston_housing.npz\n",
      "57026/57026 [==============================] - 0s 2us/step\n",
      "(404, 13)\n",
      "(102, 13)\n",
      "(404,)\n",
      "(102,)\n"
     ]
    }
   ],
   "source": [
    "(X_train, y_train), (X_test, y_test) = keras.datasets.boston_housing.load_data()\n",
    "print(X_train.shape)\n",
    "print(X_test.shape)\n",
    "print(y_train.shape)\n",
    "print(y_test.shape)"
   ]
  },
  {
   "cell_type": "code",
   "execution_count": 3,
   "id": "e874353e",
   "metadata": {},
   "outputs": [],
   "source": [
    "X_train = np.divide(X_train,np.max(X_train, axis=0))\n",
    "X_test = np.divide(X_test,np.max(X_train, axis=0))"
   ]
  },
  {
   "cell_type": "markdown",
   "id": "8cbdef5e",
   "metadata": {},
   "source": [
    "## Save training and test datasets"
   ]
  },
  {
   "cell_type": "code",
   "execution_count": 4,
   "id": "005aa7e5",
   "metadata": {},
   "outputs": [],
   "source": [
    "np.savetxt('x_train', X_train)\n",
    "np.savetxt('y_train', y_train)\n",
    "np.savetxt('x_test', X_test)\n",
    "np.savetxt('y_test', y_test)"
   ]
  },
  {
   "cell_type": "code",
   "execution_count": null,
   "id": "d9ee6454",
   "metadata": {},
   "outputs": [],
   "source": []
  }
 ],
 "metadata": {
  "kernelspec": {
   "display_name": "Python 3 (ipykernel)",
   "language": "python",
   "name": "python3"
  },
  "language_info": {
   "codemirror_mode": {
    "name": "ipython",
    "version": 3
   },
   "file_extension": ".py",
   "mimetype": "text/x-python",
   "name": "python",
   "nbconvert_exporter": "python",
   "pygments_lexer": "ipython3",
   "version": "3.10.8"
  }
 },
 "nbformat": 4,
 "nbformat_minor": 5
}
