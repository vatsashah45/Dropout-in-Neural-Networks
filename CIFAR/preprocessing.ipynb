{
 "cells": [
  {
   "cell_type": "code",
   "execution_count": 2,
   "id": "a0fb93ce",
   "metadata": {},
   "outputs": [
    {
     "name": "stderr",
     "output_type": "stream",
     "text": [
      "C:\\Users\\jptl2\\anaconda3\\envs\\tf\\lib\\site-packages\\tqdm\\auto.py:22: TqdmWarning: IProgress not found. Please update jupyter and ipywidgets. See https://ipywidgets.readthedocs.io/en/stable/user_install.html\n",
      "  from .autonotebook import tqdm as notebook_tqdm\n"
     ]
    }
   ],
   "source": [
    "import tensorflow as tf\n",
    "from tensorflow import keras\n",
    "import numpy as np\n",
    "import tensorflow_datasets as tfds\n",
    "import matplotlib.pyplot as plt"
   ]
  },
  {
   "cell_type": "code",
   "execution_count": 3,
   "id": "b4a6c8a4",
   "metadata": {},
   "outputs": [
    {
     "name": "stdout",
     "output_type": "stream",
     "text": [
      "(50000, 32, 32, 3)\n",
      "(10000, 32, 32, 3)\n",
      "(50000, 1)\n",
      "(10000, 1)\n"
     ]
    }
   ],
   "source": [
    "(x_trainC, y_trainC), (x_testC, y_testC) = keras.datasets.cifar10.load_data()\n",
    "print(x_trainC.shape)\n",
    "print(x_testC.shape)\n",
    "print(y_trainC.shape)\n",
    "print(y_testC.shape)"
   ]
  },
  {
   "cell_type": "code",
   "execution_count": 4,
   "id": "e874353e",
   "metadata": {},
   "outputs": [],
   "source": [
    "x_trainC = np.array(x_trainC).reshape(50000, 1024, 3)\n",
    "x_testC = np.array(x_testC).reshape(10000, 1024, 3)"
   ]
  },
  {
   "cell_type": "code",
   "execution_count": 5,
   "id": "8f7a27c5",
   "metadata": {},
   "outputs": [
    {
     "name": "stdout",
     "output_type": "stream",
     "text": [
      "(50000, 1024, 3)\n",
      "(10000, 1024, 3)\n",
      "(50000, 1)\n",
      "(10000, 1)\n"
     ]
    }
   ],
   "source": [
    "print(x_trainC.shape)\n",
    "print(x_testC.shape)\n",
    "print(y_trainC.shape)\n",
    "print(y_testC.shape)"
   ]
  },
  {
   "cell_type": "code",
   "execution_count": 6,
   "id": "d987d4a8",
   "metadata": {},
   "outputs": [],
   "source": [
    "x_trainC = np.divide(np.sum(x_trainC,axis=2),3)\n",
    "x_testC = np.divide(np.sum(x_testC,axis=2),3)"
   ]
  },
  {
   "cell_type": "code",
   "execution_count": 7,
   "id": "f8d08524",
   "metadata": {},
   "outputs": [
    {
     "data": {
      "image/png": "[encoded data removed]",
      "text/plain": [
       "<Figure size 640x480 with 1 Axes>"
      ]
     },
     "metadata": {},
     "output_type": "display_data"
    }
   ],
   "source": [
    "pixels = x_trainC[0].reshape((32,32))\n",
    "plt.imshow(pixels, cmap='gray')\n",
    "plt.show()"
   ]
  },
  {
   "cell_type": "code",
   "execution_count": 8,
   "id": "d3fcfb2e",
   "metadata": {},
   "outputs": [
    {
     "name": "stdout",
     "output_type": "stream",
     "text": [
      "(50000, 1024)\n",
      "(10000, 1024)\n",
      "(50000, 1)\n",
      "(10000, 1)\n"
     ]
    }
   ],
   "source": [
    "print(x_trainC.shape)\n",
    "print(x_testC.shape)\n",
    "print(y_trainC.shape)\n",
    "print(y_testC.shape)"
   ]
  },
  {
   "cell_type": "code",
   "execution_count": 17,
   "id": "507c69c8",
   "metadata": {},
   "outputs": [],
   "source": [
    "x_trainC = np.divide(x_trainC,255)\n",
    "x_testC = np.divide(x_testC,255)"
   ]
  },
  {
   "cell_type": "code",
   "execution_count": 23,
   "id": "88116b78",
   "metadata": {},
   "outputs": [
    {
     "name": "stdout",
     "output_type": "stream",
     "text": [
      "(50000, 1024)\n",
      "(10000, 1024)\n",
      "(50000, 10)\n",
      "(10000, 10)\n"
     ]
    }
   ],
   "source": [
    "y_trainAux = np.zeros((y_trainC.shape[0],10))\n",
    "y_testAux = np.zeros((y_testC.shape[0],10))\n",
    "for i in range(y_trainC.shape[0]):\n",
    "    y_trainAux[i][y_trainC[i]] = 1.0\n",
    "for i in range(y_testC.shape[0]):\n",
    "    y_testAux[i][y_testC[i]] = 1.0\n",
    "\n",
    "y_trainC = y_trainAux\n",
    "y_testC = y_testAux\n",
    "print(x_trainC.shape)\n",
    "print(x_testC.shape)\n",
    "print(y_trainC.shape)\n",
    "print(y_testC.shape)"
   ]
  },
  {
   "cell_type": "markdown",
   "id": "8cbdef5e",
   "metadata": {},
   "source": [
    "## Save training and test datasets"
   ]
  },
  {
   "cell_type": "code",
   "execution_count": 25,
   "id": "005aa7e5",
   "metadata": {},
   "outputs": [],
   "source": [
    "np.savetxt('x_trainC', x_trainC)\n",
    "np.savetxt('y_trainC', y_trainC)\n",
    "np.savetxt('x_testC', x_testC)\n",
    "np.savetxt('y_testC', y_testC)"
   ]
  },
  {
   "cell_type": "code",
   "execution_count": null,
   "id": "d9ee6454",
   "metadata": {},
   "outputs": [],
   "source": []
  }
 ],
 "metadata": {
  "kernelspec": {
   "display_name": "Python 3 (ipykernel)",
   "language": "python",
   "name": "python3"
  },
  "language_info": {
   "codemirror_mode": {
    "name": "ipython",
    "version": 3
   },
   "file_extension": ".py",
   "mimetype": "text/x-python",
   "name": "python",
   "nbconvert_exporter": "python",
   "pygments_lexer": "ipython3",
   "version": "3.9.15"
  }
 },
 "nbformat": 4,
 "nbformat_minor": 5
}
