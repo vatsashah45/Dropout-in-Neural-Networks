{
 "cells": [
  {
   "cell_type": "markdown",
   "id": "d11cbdc5",
   "metadata": {},
   "source": [
    "# DO NOT RUN THIS CODE\n",
    "\n",
    "## It takes a considerable amount of time to fetch the RCV1\n",
    "\n",
    "### This code will generate the files with the training and test data for the model"
   ]
  },
  {
   "cell_type": "code",
   "execution_count": null,
   "id": "b3e72245",
   "metadata": {},
   "outputs": [],
   "source": [
    "import sklearn.datasets\n",
    "from scipy import sparse\n",
    "import numpy as np\n",
    "import json\n",
    "from sklearn.datasets import fetch_rcv1\n",
    "import pandas"
   ]
  },
  {
   "cell_type": "code",
   "execution_count": null,
   "id": "9d6f6ca0",
   "metadata": {},
   "outputs": [],
   "source": [
    "x_train, y_train = fetch_rcv1(subset='train',return_X_y=True)"
   ]
  },
  {
   "cell_type": "code",
   "execution_count": null,
   "id": "f2bed88c",
   "metadata": {},
   "outputs": [],
   "source": [
    "x_test, y_test = fetch_rcv1(subset='test',return_X_y=True,shuffle=True)"
   ]
  },
  {
   "cell_type": "code",
   "execution_count": null,
   "id": "3c15b344",
   "metadata": {},
   "outputs": [],
   "source": [
    "y_train = pandas.DataFrame.sparse.from_spmatrix(y_train).to_numpy(dtype='float32')"
   ]
  },
  {
   "cell_type": "code",
   "execution_count": null,
   "id": "26cc7a4f",
   "metadata": {},
   "outputs": [],
   "source": [
    "y_test = pandas.DataFrame.sparse.from_spmatrix(y_test).to_numpy(dtype='float32')"
   ]
  },
  {
   "cell_type": "code",
   "execution_count": null,
   "id": "5ccfa4d2",
   "metadata": {},
   "outputs": [],
   "source": [
    "np.save('x_train', pandas.DataFrame.sparse.from_spmatrix(mat['rcv1_x']).to_numpy())"
   ]
  },
  {
   "cell_type": "code",
   "execution_count": null,
   "id": "0546e84f",
   "metadata": {},
   "outputs": [],
   "source": [
    "y_test = pandas.DataFrame.sparse.from_spmatrix(y_test).to_numpy(dtype='float32')"
   ]
  },
  {
   "cell_type": "code",
   "execution_count": null,
   "id": "e159e4e7",
   "metadata": {},
   "outputs": [],
   "source": [
    "sparse.save_npz('x_train',x_train)\n",
    "sparse.save_npz('x_test',x_test)\n",
    "np.save('y_train',y_train)\n",
    "np.save('y_test',y_test)"
   ]
  }
 ],
 "metadata": {
  "kernelspec": {
   "display_name": "Python 3 (ipykernel)",
   "language": "python",
   "name": "python3"
  },
  "language_info": {
   "codemirror_mode": {
    "name": "ipython",
    "version": 3
   },
   "file_extension": ".py",
   "mimetype": "text/x-python",
   "name": "python",
   "nbconvert_exporter": "python",
   "pygments_lexer": "ipython3",
   "version": "3.9.15"
  }
 },
 "nbformat": 4,
 "nbformat_minor": 5
}
