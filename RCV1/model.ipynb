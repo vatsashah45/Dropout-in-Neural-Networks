{
 "cells": [
  {
   "cell_type": "code",
   "execution_count": 1,
   "id": "21891e22",
   "metadata": {},
   "outputs": [],
   "source": [
    "from scipy import sparse\n",
    "import tensorflow as tf\n",
    "import numpy as np\n",
    "from keras import Input\n",
    "from keras.models import Sequential\n",
    "from keras.layers import Dense, Dropout\n",
    "import json"
   ]
  },
  {
   "cell_type": "markdown",
   "id": "98404a90",
   "metadata": {},
   "source": [
    "# Loading datasets"
   ]
  },
  {
   "cell_type": "code",
   "execution_count": 2,
   "id": "55af7d4c",
   "metadata": {},
   "outputs": [],
   "source": [
    "y_test =np.load('y_test.npy')\n",
    "y_train =np.load('y_train.npy')\n",
    "x_train = sparse.load_npz('x_train.npz')\n",
    "x_test = sparse.load_npz('x_test.npz')"
   ]
  },
  {
   "cell_type": "code",
   "execution_count": 3,
   "id": "351ba225",
   "metadata": {},
   "outputs": [
    {
     "data": {
      "text/plain": [
       "0.0916627241782537"
      ]
     },
     "execution_count": 3,
     "metadata": {},
     "output_type": "execute_result"
    }
   ],
   "source": [
    "np.mean(x_train.data)"
   ]
  },
  {
   "cell_type": "code",
   "execution_count": 4,
   "id": "4e7a0a74",
   "metadata": {},
   "outputs": [
    {
     "data": {
      "text/plain": [
       "0.0721792339873748"
      ]
     },
     "execution_count": 4,
     "metadata": {},
     "output_type": "execute_result"
    }
   ],
   "source": [
    "np.median(x_train.data)"
   ]
  },
  {
   "cell_type": "code",
   "execution_count": 5,
   "id": "72d39eeb",
   "metadata": {},
   "outputs": [],
   "source": [
    "for i in range(x_train.data.shape[0]):\n",
    "    x_train.data[i] = x_train.data[i]-0.07\n",
    "for i in range(x_test.data.shape[0]):\n",
    "    x_test.data[i] = x_test.data[i]-0.07"
   ]
  },
  {
   "cell_type": "code",
   "execution_count": 6,
   "id": "fe973a59",
   "metadata": {},
   "outputs": [],
   "source": [
    "testAmount = 30000\n",
    "x_test = x_test[:testAmount]\n",
    "y_test = y_test[:testAmount]"
   ]
  },
  {
   "cell_type": "code",
   "execution_count": 7,
   "id": "0ac9907c",
   "metadata": {},
   "outputs": [],
   "source": [
    "x_train = x_train.tocoo()\n",
    "indices = np.mat([x_train.row, x_train.col]).transpose()\n",
    "x_train = tf.SparseTensor(indices, x_train.data, x_train.shape)\n",
    "\n",
    "x_test = x_test.tocoo()\n",
    "indices = np.mat([x_test.row, x_test.col]).transpose()\n",
    "x_test = tf.SparseTensor(indices, x_test.data, x_test.shape)"
   ]
  },
  {
   "cell_type": "markdown",
   "id": "f9257e55",
   "metadata": {},
   "source": [
    "# Overfitted Model"
   ]
  },
  {
   "cell_type": "code",
   "execution_count": 13,
   "id": "6e1fb944",
   "metadata": {},
   "outputs": [
    {
     "name": "stdout",
     "output_type": "stream",
     "text": [
      "Model: \"sequential_4\"\n",
      "_________________________________________________________________\n",
      "Layer (type)                 Output Shape              Param #   \n",
      "=================================================================\n",
      "dense_19 (Dense)             (None, 200)               9447400   \n",
      "_________________________________________________________________\n",
      "dense_20 (Dense)             (None, 200)               40200     \n",
      "_________________________________________________________________\n",
      "dense_21 (Dense)             (None, 200)               40200     \n",
      "_________________________________________________________________\n",
      "dense_22 (Dense)             (None, 103)               20703     \n",
      "=================================================================\n",
      "Total params: 9,548,503\n",
      "Trainable params: 9,548,503\n",
      "Non-trainable params: 0\n",
      "_________________________________________________________________\n",
      "Epoch 1/30\n"
     ]
    },
    {
     "name": "stderr",
     "output_type": "stream",
     "text": [
      "C:\\Users\\jptl2\\anaconda3\\envs\\tf-gpu\\lib\\site-packages\\tensorflow\\python\\framework\\indexed_slices.py:447: UserWarning: Converting sparse IndexedSlices(IndexedSlices(indices=Tensor(\"gradient_tape/sequential_4/dense_19/embedding_lookup_sparse/Reshape_1:0\", shape=(None,), dtype=int32), values=Tensor(\"gradient_tape/sequential_4/dense_19/embedding_lookup_sparse/Reshape:0\", shape=(None, 200), dtype=float32), dense_shape=Tensor(\"gradient_tape/sequential_4/dense_19/embedding_lookup_sparse/Cast:0\", shape=(2,), dtype=int32))) to a dense Tensor of unknown shape. This may consume a large amount of memory.\n",
      "  warnings.warn(\n"
     ]
    },
    {
     "name": "stdout",
     "output_type": "stream",
     "text": [
      "579/579 [==============================] - 9s 15ms/step - loss: 14.7530 - acc: 0.1226 - val_loss: 14.9500 - val_acc: 0.1328\n",
      "Epoch 2/30\n",
      "579/579 [==============================] - 8s 14ms/step - loss: 14.7523 - acc: 0.1490 - val_loss: 14.9493 - val_acc: 0.1530\n",
      "Epoch 3/30\n",
      "579/579 [==============================] - 8s 14ms/step - loss: 14.7516 - acc: 0.1682 - val_loss: 14.9486 - val_acc: 0.1696\n",
      "Epoch 4/30\n",
      "579/579 [==============================] - 8s 14ms/step - loss: 14.7509 - acc: 0.1822 - val_loss: 14.9478 - val_acc: 0.1814\n",
      "Epoch 5/30\n",
      "579/579 [==============================] - 8s 14ms/step - loss: 14.7501 - acc: 0.1931 - val_loss: 14.9471 - val_acc: 0.1886\n",
      "Epoch 6/30\n",
      "579/579 [==============================] - 8s 14ms/step - loss: 14.7494 - acc: 0.1998 - val_loss: 14.9463 - val_acc: 0.1934\n",
      "Epoch 7/30\n",
      "579/579 [==============================] - 8s 14ms/step - loss: 14.7486 - acc: 0.2047 - val_loss: 14.9455 - val_acc: 0.1966\n",
      "Epoch 8/30\n",
      "579/579 [==============================] - 8s 14ms/step - loss: 14.7478 - acc: 0.2070 - val_loss: 14.9447 - val_acc: 0.1984\n",
      "Epoch 9/30\n",
      "579/579 [==============================] - 8s 14ms/step - loss: 14.7470 - acc: 0.2081 - val_loss: 14.9439 - val_acc: 0.1995\n",
      "Epoch 10/30\n",
      "579/579 [==============================] - 8s 14ms/step - loss: 14.7461 - acc: 0.2089 - val_loss: 14.9431 - val_acc: 0.2001\n",
      "Epoch 11/30\n",
      "579/579 [==============================] - 8s 14ms/step - loss: 14.7453 - acc: 0.2095 - val_loss: 14.9423 - val_acc: 0.2005\n",
      "Epoch 12/30\n",
      "579/579 [==============================] - 8s 14ms/step - loss: 14.7444 - acc: 0.2099 - val_loss: 14.9414 - val_acc: 0.2007\n",
      "Epoch 13/30\n",
      "579/579 [==============================] - 8s 14ms/step - loss: 14.7436 - acc: 0.2102 - val_loss: 14.9405 - val_acc: 0.2009\n",
      "Epoch 14/30\n",
      "579/579 [==============================] - 8s 14ms/step - loss: 14.7427 - acc: 0.2105 - val_loss: 14.9396 - val_acc: 0.2010\n",
      "Epoch 15/30\n",
      "579/579 [==============================] - 8s 14ms/step - loss: 14.7418 - acc: 0.2107 - val_loss: 14.9387 - val_acc: 0.2012\n",
      "Epoch 16/30\n",
      "579/579 [==============================] - 8s 14ms/step - loss: 14.7408 - acc: 0.2108 - val_loss: 14.9378 - val_acc: 0.2013\n",
      "Epoch 17/30\n",
      "579/579 [==============================] - 8s 14ms/step - loss: 14.7399 - acc: 0.2109 - val_loss: 14.9369 - val_acc: 0.2013\n",
      "Epoch 18/30\n",
      "579/579 [==============================] - 8s 14ms/step - loss: 14.7390 - acc: 0.2109 - val_loss: 14.9359 - val_acc: 0.2013\n",
      "Epoch 19/30\n",
      "579/579 [==============================] - 8s 14ms/step - loss: 14.7380 - acc: 0.2110 - val_loss: 14.9349 - val_acc: 0.2013\n",
      "Epoch 20/30\n",
      "579/579 [==============================] - 8s 14ms/step - loss: 14.7370 - acc: 0.2111 - val_loss: 14.9340 - val_acc: 0.2014\n",
      "Epoch 21/30\n",
      "579/579 [==============================] - 8s 14ms/step - loss: 14.7360 - acc: 0.2111 - val_loss: 14.9330 - val_acc: 0.2014\n",
      "Epoch 22/30\n",
      "579/579 [==============================] - 8s 14ms/step - loss: 14.7350 - acc: 0.2111 - val_loss: 14.9319 - val_acc: 0.2014\n",
      "Epoch 23/30\n",
      "579/579 [==============================] - 8s 14ms/step - loss: 14.7340 - acc: 0.2111 - val_loss: 14.9309 - val_acc: 0.2014\n",
      "Epoch 24/30\n",
      "579/579 [==============================] - 8s 14ms/step - loss: 14.7329 - acc: 0.2111 - val_loss: 14.9299 - val_acc: 0.2014\n",
      "Epoch 25/30\n",
      "579/579 [==============================] - 8s 14ms/step - loss: 14.7319 - acc: 0.2111 - val_loss: 14.9288 - val_acc: 0.2014\n",
      "Epoch 26/30\n",
      "579/579 [==============================] - 8s 14ms/step - loss: 14.7308 - acc: 0.2111 - val_loss: 14.9277 - val_acc: 0.2015\n",
      "Epoch 27/30\n",
      "579/579 [==============================] - 8s 14ms/step - loss: 14.7297 - acc: 0.2111 - val_loss: 14.9266 - val_acc: 0.2015\n",
      "Epoch 28/30\n",
      "579/579 [==============================] - 8s 14ms/step - loss: 14.7286 - acc: 0.2111 - val_loss: 14.9255 - val_acc: 0.2015\n",
      "Epoch 29/30\n",
      "579/579 [==============================] - 8s 14ms/step - loss: 14.7274 - acc: 0.2111 - val_loss: 14.9243 - val_acc: 0.2015\n",
      "Epoch 30/30\n",
      "579/579 [==============================] - 8s 14ms/step - loss: 14.7263 - acc: 0.2111 - val_loss: 14.9232 - val_acc: 0.2015\n"
     ]
    }
   ],
   "source": [
    "model = Sequential()\n",
    "\n",
    "model.add(Input(shape=(47236,), sparse=True))\n",
    "\n",
    "model.add(Dense(200, activation='relu'))\n",
    "model.add(Dense(200, activation='relu'))\n",
    "model.add(Dense(200, activation='relu'))\n",
    "\n",
    "model.add(Dense(103, activation='sigmoid',))\n",
    "\n",
    "\n",
    "model.summary()\n",
    "opt = tf.keras.optimizers.Adam(learning_rate=1e-7)\n",
    "model.compile(optimizer=opt, loss='categorical_crossentropy', metrics=['acc'])\n",
    "\n",
    "score = model.fit(x_train, y_train, epochs=30, batch_size=40 ,validation_data=(x_test, y_test))"
   ]
  },
  {
   "cell_type": "code",
   "execution_count": 14,
   "id": "4c4a6921",
   "metadata": {},
   "outputs": [],
   "source": [
    "json.dump(score.history, open(\"OverfittedModel\", 'w'))"
   ]
  },
  {
   "cell_type": "markdown",
   "id": "11e04a26",
   "metadata": {},
   "source": [
    "# Dropout Model"
   ]
  },
  {
   "cell_type": "code",
   "execution_count": 15,
   "id": "2ddd41e6",
   "metadata": {},
   "outputs": [
    {
     "name": "stdout",
     "output_type": "stream",
     "text": [
      "Model: \"sequential_5\"\n",
      "_________________________________________________________________\n",
      "Layer (type)                 Output Shape              Param #   \n",
      "=================================================================\n",
      "dense_23 (Dense)             (None, 200)               9447400   \n",
      "_________________________________________________________________\n",
      "dropout (Dropout)            (None, 200)               0         \n",
      "_________________________________________________________________\n",
      "dense_24 (Dense)             (None, 200)               40200     \n",
      "_________________________________________________________________\n",
      "dropout_1 (Dropout)          (None, 200)               0         \n",
      "_________________________________________________________________\n",
      "dense_25 (Dense)             (None, 200)               40200     \n",
      "_________________________________________________________________\n",
      "dropout_2 (Dropout)          (None, 200)               0         \n",
      "_________________________________________________________________\n",
      "dense_26 (Dense)             (None, 103)               20703     \n",
      "=================================================================\n",
      "Total params: 9,548,503\n",
      "Trainable params: 9,548,503\n",
      "Non-trainable params: 0\n",
      "_________________________________________________________________\n",
      "Epoch 1/30\n"
     ]
    },
    {
     "name": "stderr",
     "output_type": "stream",
     "text": [
      "C:\\Users\\jptl2\\anaconda3\\envs\\tf-gpu\\lib\\site-packages\\tensorflow\\python\\framework\\indexed_slices.py:447: UserWarning: Converting sparse IndexedSlices(IndexedSlices(indices=Tensor(\"gradient_tape/sequential_5/dense_23/embedding_lookup_sparse/Reshape_1:0\", shape=(None,), dtype=int32), values=Tensor(\"gradient_tape/sequential_5/dense_23/embedding_lookup_sparse/Reshape:0\", shape=(None, 200), dtype=float32), dense_shape=Tensor(\"gradient_tape/sequential_5/dense_23/embedding_lookup_sparse/Cast:0\", shape=(2,), dtype=int32))) to a dense Tensor of unknown shape. This may consume a large amount of memory.\n",
      "  warnings.warn(\n"
     ]
    },
    {
     "name": "stdout",
     "output_type": "stream",
     "text": [
      "579/579 [==============================] - 9s 15ms/step - loss: 14.7543 - acc: 0.0276 - val_loss: 14.9512 - val_acc: 0.0470\n",
      "Epoch 2/30\n",
      "579/579 [==============================] - 8s 14ms/step - loss: 14.7537 - acc: 0.0339 - val_loss: 14.9506 - val_acc: 0.0594\n",
      "Epoch 3/30\n",
      "579/579 [==============================] - 8s 15ms/step - loss: 14.7531 - acc: 0.0394 - val_loss: 14.9500 - val_acc: 0.0713\n",
      "Epoch 4/30\n",
      "579/579 [==============================] - 9s 15ms/step - loss: 14.7525 - acc: 0.0437 - val_loss: 14.9494 - val_acc: 0.0836\n",
      "Epoch 5/30\n",
      "579/579 [==============================] - 8s 15ms/step - loss: 14.7519 - acc: 0.0519 - val_loss: 14.9488 - val_acc: 0.0960\n",
      "Epoch 6/30\n",
      "579/579 [==============================] - 8s 14ms/step - loss: 14.7513 - acc: 0.0603 - val_loss: 14.9482 - val_acc: 0.1085\n",
      "Epoch 7/30\n",
      "579/579 [==============================] - 8s 14ms/step - loss: 14.7506 - acc: 0.0658 - val_loss: 14.9476 - val_acc: 0.1192\n",
      "Epoch 8/30\n",
      "579/579 [==============================] - 8s 14ms/step - loss: 14.7500 - acc: 0.0727 - val_loss: 14.9469 - val_acc: 0.1285\n",
      "Epoch 9/30\n",
      "579/579 [==============================] - 8s 15ms/step - loss: 14.7494 - acc: 0.0807 - val_loss: 14.9463 - val_acc: 0.1371\n",
      "Epoch 10/30\n",
      "579/579 [==============================] - 9s 15ms/step - loss: 14.7487 - acc: 0.0854 - val_loss: 14.9457 - val_acc: 0.1449\n",
      "Epoch 11/30\n",
      "579/579 [==============================] - 9s 15ms/step - loss: 14.7480 - acc: 0.0941 - val_loss: 14.9450 - val_acc: 0.1519\n",
      "Epoch 12/30\n",
      "579/579 [==============================] - 9s 15ms/step - loss: 14.7474 - acc: 0.1000 - val_loss: 14.9443 - val_acc: 0.1581\n",
      "Epoch 13/30\n",
      "579/579 [==============================] - 9s 15ms/step - loss: 14.7467 - acc: 0.1041 - val_loss: 14.9436 - val_acc: 0.1635\n",
      "Epoch 14/30\n",
      "579/579 [==============================] - 8s 14ms/step - loss: 14.7461 - acc: 0.1097 - val_loss: 14.9430 - val_acc: 0.1673\n",
      "Epoch 15/30\n",
      "579/579 [==============================] - 8s 14ms/step - loss: 14.7453 - acc: 0.1121 - val_loss: 14.9422 - val_acc: 0.1704\n",
      "Epoch 16/30\n",
      "579/579 [==============================] - 8s 14ms/step - loss: 14.7446 - acc: 0.1202 - val_loss: 14.9415 - val_acc: 0.1734\n",
      "Epoch 17/30\n",
      "579/579 [==============================] - 8s 14ms/step - loss: 14.7439 - acc: 0.1244 - val_loss: 14.9408 - val_acc: 0.1761\n",
      "Epoch 18/30\n",
      "579/579 [==============================] - 9s 15ms/step - loss: 14.7432 - acc: 0.1264 - val_loss: 14.9401 - val_acc: 0.1768\n",
      "Epoch 19/30\n",
      "579/579 [==============================] - 8s 14ms/step - loss: 14.7424 - acc: 0.1299 - val_loss: 14.9394 - val_acc: 0.1776\n",
      "Epoch 20/30\n",
      "579/579 [==============================] - 9s 15ms/step - loss: 14.7417 - acc: 0.1312 - val_loss: 14.9386 - val_acc: 0.1780\n",
      "Epoch 21/30\n",
      "579/579 [==============================] - 8s 15ms/step - loss: 14.7409 - acc: 0.1357 - val_loss: 14.9378 - val_acc: 0.1777\n",
      "Epoch 22/30\n",
      "579/579 [==============================] - 8s 14ms/step - loss: 14.7402 - acc: 0.1370 - val_loss: 14.9371 - val_acc: 0.1776\n",
      "Epoch 23/30\n",
      "579/579 [==============================] - 8s 14ms/step - loss: 14.7394 - acc: 0.1359 - val_loss: 14.9363 - val_acc: 0.1766\n",
      "Epoch 24/30\n",
      "579/579 [==============================] - 8s 14ms/step - loss: 14.7386 - acc: 0.1409 - val_loss: 14.9355 - val_acc: 0.1757\n",
      "Epoch 25/30\n",
      "579/579 [==============================] - 8s 14ms/step - loss: 14.7378 - acc: 0.1392 - val_loss: 14.9347 - val_acc: 0.1747\n",
      "Epoch 26/30\n",
      "579/579 [==============================] - 8s 14ms/step - loss: 14.7370 - acc: 0.1385 - val_loss: 14.9338 - val_acc: 0.1726\n",
      "Epoch 27/30\n",
      "579/579 [==============================] - 8s 14ms/step - loss: 14.7362 - acc: 0.1329 - val_loss: 14.9330 - val_acc: 0.1694\n",
      "Epoch 28/30\n",
      "579/579 [==============================] - 8s 14ms/step - loss: 14.7353 - acc: 0.1440 - val_loss: 14.9322 - val_acc: 0.1671\n",
      "Epoch 29/30\n",
      "579/579 [==============================] - 8s 14ms/step - loss: 14.7344 - acc: 0.1402 - val_loss: 14.9313 - val_acc: 0.1653\n",
      "Epoch 30/30\n",
      "579/579 [==============================] - 8s 14ms/step - loss: 14.7336 - acc: 0.1419 - val_loss: 14.9304 - val_acc: 0.1635\n"
     ]
    }
   ],
   "source": [
    "model = Sequential()\n",
    "\n",
    "model.add(Input(shape=(47236,), sparse=True))\n",
    "\n",
    "model.add(Dense(200, activation='relu'))\n",
    "model.add(Dropout(0.2))\n",
    "model.add(Dense(200, activation='relu'))\n",
    "model.add(Dropout(0.2))\n",
    "model.add(Dense(200, activation='relu'))\n",
    "model.add(Dropout(0.2))\n",
    "model.add(Dense(103, activation='sigmoid',))\n",
    "\n",
    "\n",
    "model.summary()\n",
    "opt = tf.keras.optimizers.Adam(learning_rate=1e-7)\n",
    "model.compile(optimizer=opt, loss='categorical_crossentropy', metrics=['acc'])\n",
    "\n",
    "score = model.fit(x_train, y_train, epochs=30, batch_size=40 ,validation_data=(x_test, y_test))"
   ]
  },
  {
   "cell_type": "code",
   "execution_count": 16,
   "id": "c0e6f1e6",
   "metadata": {},
   "outputs": [],
   "source": [
    "json.dump(score.history, open(\"DropoutModel\", 'w'))"
   ]
  },
  {
   "cell_type": "code",
   "execution_count": null,
   "id": "252ccb38",
   "metadata": {},
   "outputs": [],
   "source": []
  }
 ],
 "metadata": {
  "kernelspec": {
   "display_name": "Python 3 (ipykernel)",
   "language": "python",
   "name": "python3"
  },
  "language_info": {
   "codemirror_mode": {
    "name": "ipython",
    "version": 3
   },
   "file_extension": ".py",
   "mimetype": "text/x-python",
   "name": "python",
   "nbconvert_exporter": "python",
   "pygments_lexer": "ipython3",
   "version": "3.9.15"
  }
 },
 "nbformat": 4,
 "nbformat_minor": 5
}
